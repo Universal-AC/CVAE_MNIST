{
  "nbformat": 4,
  "nbformat_minor": 0,
  "metadata": {
    "colab": {
      "name": "cvae_mnist.ipynb",
      "provenance": []
    },
    "kernelspec": {
      "name": "python3",
      "display_name": "Python 3"
    }
  },
  "cells": [
    {
      "cell_type": "code",
      "metadata": {
        "id": "CBYmF0Q7p-Ei"
      },
      "source": [
        "import tensorflow as tf\n",
        "import random\n",
        "import time\n",
        "from tqdm import tqdm\n",
        "import matplotlib.pyplot as plt\n",
        "import numpy as np"
      ],
      "execution_count": null,
      "outputs": []
    },
    {
      "cell_type": "code",
      "metadata": {
        "id": "y0H827EDq5fQ",
        "colab": {
          "base_uri": "https://localhost:8080/",
          "height": 51
        },
        "outputId": "65c53294-d25f-46c8-f5c7-e81918db9fe5"
      },
      "source": [
        "(x_train, _),(x_test, _)=tf.keras.datasets.mnist.load_data()"
      ],
      "execution_count": null,
      "outputs": [
        {
          "output_type": "stream",
          "text": [
            "Downloading data from https://storage.googleapis.com/tensorflow/tf-keras-datasets/mnist.npz\n",
            "11493376/11490434 [==============================] - 0s 0us/step\n"
          ],
          "name": "stdout"
        }
      ]
    },
    {
      "cell_type": "code",
      "metadata": {
        "id": "ZDohMxVLq38T"
      },
      "source": [
        "x_train=x_train.reshape((x_train.shape[0], 28, 28, 1))/255.\n",
        "x_test=x_test.reshape((x_test.shape[0], 28, 28, 1))/255.\n",
        "x_train=x_train.astype('float32')\n",
        "x_test=x_test.astype('float32')"
      ],
      "execution_count": null,
      "outputs": []
    },
    {
      "cell_type": "code",
      "metadata": {
        "id": "MT3DFiP1QRgt",
        "colab": {
          "base_uri": "https://localhost:8080/",
          "height": 34
        },
        "outputId": "df65c636-d343-4011-c796-dc5bfa6bb70f"
      },
      "source": [
        "type(x_test[0])"
      ],
      "execution_count": null,
      "outputs": [
        {
          "output_type": "execute_result",
          "data": {
            "text/plain": [
              "numpy.ndarray"
            ]
          },
          "metadata": {
            "tags": []
          },
          "execution_count": 15
        }
      ]
    },
    {
      "cell_type": "code",
      "metadata": {
        "id": "oCrWaNdaq-mh"
      },
      "source": [
        "latent_dim=2 #dimension du vecteur latent changeable\n",
        "batch_size=32\n",
        "train_size=x_train.shape[0]\n",
        "train_dataset=(tf.data.Dataset.from_tensor_slices(x_train).shuffle(train_size).batch(batch_size))\n",
        "test_size=x_test.shape[0]\n",
        "test_dataset=(tf.data.Dataset.from_tensor_slices(x_test).shuffle(test_size).batch(batch_size))\n",
        "epochs=3"
      ],
      "execution_count": null,
      "outputs": []
    },
    {
      "cell_type": "code",
      "metadata": {
        "id": "H4VlUSBBnyQM",
        "colab": {
          "base_uri": "https://localhost:8080/",
          "height": 34
        },
        "outputId": "7b6c93f2-161b-4f84-9f82-10392777b7a5"
      },
      "source": [
        "train_dataset"
      ],
      "execution_count": null,
      "outputs": [
        {
          "output_type": "execute_result",
          "data": {
            "text/plain": [
              "<BatchDataset shapes: (None, 28, 28, 1), types: tf.float32>"
            ]
          },
          "metadata": {
            "tags": []
          },
          "execution_count": 7
        }
      ]
    },
    {
      "cell_type": "code",
      "metadata": {
        "id": "U6SF_Bfwnu1M"
      },
      "source": [
        "input_shape2=(x_test.shape[1], x_test.shape[2], x_test.shape[3])"
      ],
      "execution_count": null,
      "outputs": []
    },
    {
      "cell_type": "code",
      "metadata": {
        "id": "NOQBhqFZnaMG",
        "colab": {
          "base_uri": "https://localhost:8080/",
          "height": 34
        },
        "outputId": "9287eb35-253f-4789-fd0a-e73340b651e6"
      },
      "source": [
        "input_shape2"
      ],
      "execution_count": null,
      "outputs": [
        {
          "output_type": "execute_result",
          "data": {
            "text/plain": [
              "(28, 28, 1)"
            ]
          },
          "metadata": {
            "tags": []
          },
          "execution_count": 9
        }
      ]
    },
    {
      "cell_type": "code",
      "metadata": {
        "id": "ZQVUAHEmrRXh"
      },
      "source": [
        "class encodeur_CV(tf.keras.Model):\n",
        "  def __init__(self, latent_dim, input_shape2):\n",
        "    super(encodeur_CV, self).__init__()\n",
        "    self.latent_dim=latent_dim\n",
        "    self.input_shape2=input_shape2\n",
        "    self.entre=tf.keras.layers.InputLayer(input_shape=input_shape2)\n",
        "    self.conv1=tf.keras.layers.Conv2D(filters=32, kernel_size=3, strides=(2,2), activation='relu')\n",
        "    self.conv2=tf.keras.layers.Conv2D(filters=64, kernel_size=3, strides=(2,2), activation='relu')\n",
        "    self.ecrase=tf.keras.layers.Flatten()\n",
        "    self.mean=tf.keras.layers.Dense(latent_dim)\n",
        "    self.logvar=tf.keras.layers.Dense(latent_dim)\n",
        "  \n",
        "  def call(self, x):\n",
        "    x=self.entre(x)\n",
        "    x=self.conv1(x)\n",
        "    x=self.conv2(x)\n",
        "    x=self.ecrase(x)\n",
        "    return self.mean(x), self.logvar(x)\n",
        "\n",
        "class decodeur_CV(tf.keras.Model):\n",
        "  def __init__(self, latent_dim):\n",
        "    super(decodeur_CV, self).__init__()\n",
        "    self.latent_dim=latent_dim\n",
        "    self.entre2=tf.keras.layers.InputLayer(input_shape=(latent_dim,))\n",
        "    self.dense1=tf.keras.layers.Dense(units=7*7*32, activation='relu') #on va faire trois déconvolutions successives avec strides 2 7*7 -> 14*14 -> 28*28 (à adapter à la dim d'entrée)\n",
        "    self.reshape=tf.keras.layers.Reshape(target_shape=(7, 7, 32)) #image 7*7\n",
        "    self.deconv1=tf.keras.layers.Conv2DTranspose(filters=64, kernel_size=3, strides=2, padding='same', activation='relu')\n",
        "    self.deconv2=tf.keras.layers.Conv2DTranspose(filters=32, kernel_size=3, strides=2, padding='same', activation='relu')\n",
        "    self.deconv3=tf.keras.layers.Conv2DTranspose(filters=1, kernel_size=3, strides=1, padding='same')\n",
        "\n",
        "  def call(self, x):\n",
        "    x=self.entre2(x)\n",
        "    x=self.dense1(x)\n",
        "    x=self.reshape(x)\n",
        "    x=self.deconv1(x)\n",
        "    x=self.deconv2(x)\n",
        "    return self.deconv3(x)\n",
        "\n",
        "class CVAE(tf.keras.Model):\n",
        "  def __init__(self, encodeur_CV, decodeur_CV):\n",
        "    super(CVAE, self).__init__()\n",
        "    self.encodeur_CV=encodeur_CV\n",
        "    self.decodeur_CV=decodeur_CV\n",
        "  \n",
        "  def parametre(self, mean, logvar):\n",
        "    batch=tf.keras.backend.shape(mean)[0]\n",
        "    dim=tf.keras.backend.int_shape(mean)[1]\n",
        "    epsilon=tf.random.normal(shape=(batch, dim))\n",
        "    return mean+tf.exp(0.5*logvar)*epsilon\n",
        "  \n",
        "  def call(self, x):\n",
        "    mean, logvar=self.encodeur_CV(x)\n",
        "    x=self.parametre(mean, logvar)\n",
        "    x=self.decodeur_CV(x)\n",
        "    return x, mean, logvar"
      ],
      "execution_count": null,
      "outputs": []
    },
    {
      "cell_type": "code",
      "metadata": {
        "id": "hlx0JPzhrl83"
      },
      "source": [
        "def loss_CVAE(entree, sortie, mean, logvar):\n",
        "        reconstruction_loss = tf.reduce_mean(tf.keras.losses.binary_crossentropy(entree, sortie))\n",
        "        reconstruction_loss *= 28 * 28\n",
        "        kl_loss = 1 + logvar - tf.square(mean) - tf.exp(logvar)\n",
        "        kl_loss = tf.reduce_mean(kl_loss)*(-0.5)\n",
        "        return reconstruction_loss + kl_loss"
      ],
      "execution_count": null,
      "outputs": []
    },
    {
      "cell_type": "code",
      "metadata": {
        "id": "rzFAW7vorrjJ"
      },
      "source": [
        "opt=tf.keras.optimizers.Adam(1e-4)"
      ],
      "execution_count": null,
      "outputs": []
    },
    {
      "cell_type": "code",
      "metadata": {
        "id": "QFnKLUUnrxU8"
      },
      "source": [
        "enc=encodeur_CV(latent_dim, input_shape2)\n",
        "deco=decodeur_CV(latent_dim)\n",
        "CVAEE=CVAE(enc, deco)"
      ],
      "execution_count": null,
      "outputs": []
    },
    {
      "cell_type": "code",
      "metadata": {
        "id": "oQLQsc3ar1sx",
        "colab": {
          "base_uri": "https://localhost:8080/",
          "height": 34
        },
        "outputId": "37636c9a-3b52-47f8-9a1e-be921ed0bb2b"
      },
      "source": [
        "time_l=[]\n",
        "loss_liste=[]\n",
        "start_time=time.clock()\n",
        "for i in tqdm(range(epochs)):\n",
        "  total_loss=0\n",
        "  for j in train_dataset:\n",
        "    with tf.GradientTape() as tape: #il calcule les gradients\n",
        "      x, mean, logvar=CVAEE(j)\n",
        "      total_loss=loss_CVAE(j, x, mean, logvar)\n",
        "    grads=tape.gradient(total_loss, CVAEE.trainable_weights) #calcul\n",
        "    opt.apply_gradients(zip(grads, CVAEE.trainable_weights))\n",
        "    t=time.clock()\n",
        "    time_l.append(t-start_time)\n",
        "    loss_liste.append(total_loss)"
      ],
      "execution_count": null,
      "outputs": [
        {
          "output_type": "stream",
          "text": [
            "100%|██████████| 3/3 [06:38<00:00, 132.90s/it]\n"
          ],
          "name": "stderr"
        }
      ]
    },
    {
      "cell_type": "code",
      "metadata": {
        "id": "vYooO6AJptqw",
        "colab": {
          "base_uri": "https://localhost:8080/",
          "height": 279
        },
        "outputId": "6871a714-8d28-41aa-d847-6d45aa684cad"
      },
      "source": [
        "plt.plot(time_l, loss_liste)\n",
        "plt.xlabel('Temps (s)')\n",
        "plt.ylabel('Perte')\n",
        "plt.savefig('loss_fct_time.eps', dpi=200)\n",
        "plt.show()"
      ],
      "execution_count": null,
      "outputs": [
        {
          "output_type": "display_data",
          "data": {
            "image/png": "[encoded data removed]",
            "text/plain": [
              "<Figure size 432x288 with 1 Axes>"
            ]
          },
          "metadata": {
            "tags": [],
            "needs_background": "light"
          }
        }
      ]
    },
    {
      "cell_type": "code",
      "metadata": {
        "id": "XnpRs_YcqS50"
      },
      "source": [
        "reconst_images=deco.predict(np.random.normal(0,1,size=(3,2)))"
      ],
      "execution_count": null,
      "outputs": []
    },
    {
      "cell_type": "code",
      "metadata": {
        "id": "xZYeX-IIrBNl",
        "colab": {
          "base_uri": "https://localhost:8080/",
          "height": 282
        },
        "outputId": "49400ed0-95b9-4064-cb64-2a0f0245cbfa"
      },
      "source": [
        "img1=reconst_images[1]\n",
        "img1=np.array(img1).reshape(28,28)\n",
        "plt.imshow(img1)"
      ],
      "execution_count": null,
      "outputs": [
        {
          "output_type": "execute_result",
          "data": {
            "text/plain": [
              "<matplotlib.image.AxesImage at 0x7f6e87bcec88>"
            ]
          },
          "metadata": {
            "tags": []
          },
          "execution_count": 38
        },
        {
          "output_type": "display_data",
          "data": {
            "image/png": "[encoded data removed]",
            "text/plain": [
              "<Figure size 432x288 with 1 Axes>"
            ]
          },
          "metadata": {
            "tags": [],
            "needs_background": "light"
          }
        }
      ]
    }
  ]
}